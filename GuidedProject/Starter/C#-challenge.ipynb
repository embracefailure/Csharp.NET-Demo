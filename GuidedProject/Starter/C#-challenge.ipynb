{
 "cells": [
  {
   "cell_type": "markdown",
   "metadata": {},
   "source": [
    "## 这是一个jupyter notebook，我会带着大家完成一个小挑战。\n",
    "### 挑战要求：\n",
    "#### 对以下代码进行修改，以实现这样的成绩单\n",
    "[成绩单](https://learn.microsoft.com/zh-cn/training/modules/challenge-project-arrays-iteration-selection/2-prepare)"
   ]
  },
  {
   "cell_type": "markdown",
   "metadata": {},
   "source": [
    "#### 让我们看看改动之前的初始代码跑出来是什么结果，以对症下药，完成挑战任务。"
   ]
  },
  {
   "cell_type": "code",
   "execution_count": 1,
   "metadata": {
    "dotnet_interactive": {
     "language": "csharp"
    },
    "polyglot_notebook": {
     "kernelName": "csharp"
    },
    "vscode": {
     "languageId": "polyglot-notebook"
    }
   },
   "outputs": [
    {
     "name": "stdout",
     "output_type": "stream",
     "text": [
      "Student\t\tGrade\n",
      "\n",
      "Sophia:\t\t92.2\tA-\n",
      "Andrew:\t\t89.6\tB+\n",
      "Emma:\t\t85.6\tB\n",
      "Logan:\t\t91.2\tA-\n",
      "Press the Enter key to continue\n"
     ]
    }
   ],
   "source": [
    "int currentAssignments = 5;\n",
    "\n",
    "int sophia1 = 90;\n",
    "int sophia2 = 86;\n",
    "int sophia3 = 87;\n",
    "int sophia4 = 98;\n",
    "int sophia5 = 100;\n",
    "\n",
    "int andrew1 = 92;\n",
    "int andrew2 = 89;\n",
    "int andrew3 = 81;\n",
    "int andrew4 = 96;\n",
    "int andrew5 = 90;\n",
    "\n",
    "int emma1 = 90;\n",
    "int emma2 = 85;\n",
    "int emma3 = 87;\n",
    "int emma4 = 98;\n",
    "int emma5 = 68;\n",
    "\n",
    "int logan1 = 90;\n",
    "int logan2 = 95;\n",
    "int logan3 = 87;\n",
    "int logan4 = 88;\n",
    "int logan5 = 96;\n",
    "\n",
    "int sophiaSum = 0;\n",
    "int andrewSum = 0;\n",
    "int emmaSum = 0;\n",
    "int loganSum = 0;\n",
    "\n",
    "decimal sophiaScore;\n",
    "decimal andrewScore;\n",
    "decimal emmaScore;\n",
    "decimal loganScore;\n",
    "\n",
    "sophiaSum = sophia1 + sophia2 + sophia3 + sophia4 + sophia5;\n",
    "andrewSum = andrew1 + andrew2 + andrew3 + andrew4 + andrew5;\n",
    "emmaSum = emma1 + emma2 + emma3 + emma4 + emma5;\n",
    "loganSum = logan1 + logan2 + logan3 + logan4 + logan5;\n",
    "\n",
    "sophiaScore = (decimal)sophiaSum / currentAssignments;\n",
    "andrewScore = (decimal)andrewSum / currentAssignments;\n",
    "emmaScore = (decimal)emmaSum / currentAssignments;\n",
    "loganScore = (decimal)loganSum / currentAssignments;\n",
    "\n",
    "Console.WriteLine(\"Student\\t\\tGrade\\n\");\n",
    "Console.WriteLine(\"Sophia:\\t\\t\" + sophiaScore + \"\\tA-\");\n",
    "Console.WriteLine(\"Andrew:\\t\\t\" + andrewScore + \"\\tB+\");\n",
    "Console.WriteLine(\"Emma:\\t\\t\" + emmaScore + \"\\tB\");\n",
    "Console.WriteLine(\"Logan:\\t\\t\" + loganScore + \"\\tA-\");\n",
    "\n",
    "Console.WriteLine(\"Press the Enter key to continue\");\n",
    "Console.ReadLine();"
   ]
  },
  {
   "cell_type": "markdown",
   "metadata": {},
   "source": [
    "### 分析、拆解问题：\n",
    "\n",
    "#### 形式上：增加两列成绩输出，需要分别计算没有加分情况下**原始成绩**和加权加分之后的**总成绩**，还要计算加分的课程给同学的总分**增加了多少**\n",
    "\n",
    "#### 数据层面：增加3个变量，1个用来统计原始总分，1个用来统计加分部分的平均分，1个用来计算总分\n",
    "\n",
    "#### 逻辑层面：增加计算加分部分平均分，根据这个平均分按照加权计算总分两部分代码。"
   ]
  },
  {
   "cell_type": "markdown",
   "metadata": {},
   "source": [
    "## 行动计划：\n",
    "\n",
    "- 用数组存储每一个同学的各科成绩、每一个同学的总成绩。*数组*是一种最基本的数据结构，适合用于这个挑战。\n",
    "\n",
    "- 由于有额外加分课需要计算，引入了新的数组存储基础课的成绩和总成绩，以及加分部分的总成绩。\n",
    "\n",
    "- 最后输出总成绩为了使用**循环输出**，也构建了数组存储计算出来的总成绩。\n",
    "\n",
    "- 为了使用循环计算总分，节省空间，优化代码，需要一个存储名字的数组&一个用于判断现在在计算谁的总成绩的中间数组tempScores\n",
    "\n",
    "- 为了计算加分课平均成绩（成绩单最后一列需要显示），需要设置一个变量，每次超出基础课的部分就开始加分，统计加分课的总分；还需要一个统计总共上了多少门课的变量，用于计算加分课的平均分。\n",
    "\n",
    "- 为了计算每个同学的成绩，而这些成绩最终存储在一个数组中，所以需要给每个同学一个**index**。\n",
    "\n",
    "- 为了最后给出字母等级评价，需要增加一个**判断语句**\n",
    "\n",
    "- 为了给每一个学生一个字母等级，需要一个字母数组，存储每位同学的字母等级。"
   ]
  },
  {
   "cell_type": "markdown",
   "metadata": {},
   "source": [
    "#### 1. 用数组存储每一个同学的各科成绩、每一个同学的总成绩——*数组*是一种最基本的数据结构，适合用于这个挑战"
   ]
  },
  {
   "cell_type": "code",
   "execution_count": 2,
   "metadata": {
    "dotnet_interactive": {
     "language": "csharp"
    },
    "polyglot_notebook": {
     "kernelName": "csharp"
    },
    "vscode": {
     "languageId": "polyglot-notebook"
    }
   },
   "outputs": [],
   "source": [
    "int[] sophiaScores = new int[]{90,86,87,98,100,94,90};\n",
    "int[] andrewScores = new int[]{92,89,81,96,90,89};\n",
    "int[] emmaScores = new int[]{90,85,87,98,68,89,89,89};\n",
    "int[] loganScores = new int[]{90,95,87,88,96,96}; \n",
    "int[] beckyScores = new int[] { 92, 91, 90, 91, 92, 92, 92 };\n",
    "int[] chrisScores = new int[] { 84, 86, 88, 90, 92, 94, 96, 98 };\n",
    "int[] ericScores = new int[] { 80, 90, 100, 80, 90, 100, 80, 90 };\n",
    "int[] gregorScores = new int[] { 91, 91, 91, 91, 91, 91, 91 };    \n",
    "int[] timmyScores = new int[]{90,89,87,91,92,93,93,92,89};"
   ]
  },
  {
   "cell_type": "markdown",
   "metadata": {},
   "source": [
    "#### 2.由于有额外加分课需要计算，引入了新的数组存储基础课的成绩和总成绩。"
   ]
  },
  {
   "cell_type": "code",
   "execution_count": 3,
   "metadata": {
    "dotnet_interactive": {
     "language": "csharp"
    },
    "polyglot_notebook": {
     "kernelName": "csharp"
    },
    "vscode": {
     "languageId": "polyglot-notebook"
    }
   },
   "outputs": [],
   "source": [
    "decimal[] sumScores = new decimal[]{0,0,0,0,0,0,0,0,0};\n",
    "decimal[] examScores = new decimal[]{0,0,0,0,0,0,0,0,0};\n",
    "decimal[] extraAverageScore = new decimal[]{0,0,0,0,0,0,0,0,0};"
   ]
  },
  {
   "cell_type": "markdown",
   "metadata": {},
   "source": [
    "#### 3.最后输出总成绩为了使用**循环输出**，也构建了数组存储计算出来的总成绩。"
   ]
  },
  {
   "cell_type": "code",
   "execution_count": 4,
   "metadata": {
    "dotnet_interactive": {
     "language": "csharp"
    },
    "polyglot_notebook": {
     "kernelName": "csharp"
    },
    "vscode": {
     "languageId": "polyglot-notebook"
    }
   },
   "outputs": [],
   "source": [
    "decimal[] studentScore = new decimal[]{0,0,0,0,0,0,0,0,0};"
   ]
  },
  {
   "cell_type": "markdown",
   "metadata": {},
   "source": [
    "#### 4.为了使用循环计算总分，节省空间，优化代码，需要一个存储名字的数组&一个用于判断现在在计算谁的总成绩的中间数组tempScores"
   ]
  },
  {
   "cell_type": "code",
   "execution_count": 5,
   "metadata": {
    "dotnet_interactive": {
     "language": "csharp"
    },
    "polyglot_notebook": {
     "kernelName": "csharp"
    },
    "vscode": {
     "languageId": "polyglot-notebook"
    }
   },
   "outputs": [],
   "source": [
    "int[] tempScores = new int[10];"
   ]
  },
  {
   "cell_type": "markdown",
   "metadata": {},
   "source": [
    "#### 5.为了计算加分课平均成绩（成绩单最后一列需要显示），需要设置一个变量，每次超出基础课的部分就开始加分，统计加分课的总分；<br>  还需要一个统计总共上了多少门课的变量，用于计算加分课的平均分。"
   ]
  },
  {
   "cell_type": "code",
   "execution_count": 6,
   "metadata": {
    "dotnet_interactive": {
     "language": "csharp"
    },
    "polyglot_notebook": {
     "kernelName": "csharp"
    },
    "vscode": {
     "languageId": "polyglot-notebook"
    }
   },
   "outputs": [],
   "source": [
    "int extraScores = 0;\n",
    "int countExams = 0;"
   ]
  },
  {
   "cell_type": "markdown",
   "metadata": {},
   "source": [
    "#### 6.为了计算每个同学的成绩，而这些成绩最终存储在一个数组中，所以需要给每个同学一个**index**。"
   ]
  },
  {
   "cell_type": "code",
   "execution_count": 7,
   "metadata": {
    "dotnet_interactive": {
     "language": "csharp"
    },
    "polyglot_notebook": {
     "kernelName": "csharp"
    },
    "vscode": {
     "languageId": "polyglot-notebook"
    }
   },
   "outputs": [],
   "source": [
    "  int index = 0;"
   ]
  },
  {
   "cell_type": "markdown",
   "metadata": {},
   "source": [
    "#### 7.为了给每一个学生一个字母等级，需要一个字母数组，存储每位同学的字母等级。"
   ]
  },
  {
   "cell_type": "code",
   "execution_count": 8,
   "metadata": {
    "dotnet_interactive": {
     "language": "csharp"
    },
    "polyglot_notebook": {
     "kernelName": "csharp"
    },
    "vscode": {
     "languageId": "polyglot-notebook"
    }
   },
   "outputs": [],
   "source": [
    "string[] studentLetterGrade= new string[]{\"A\",\"A\",\"A\",\"A\",\"A\",\"A\",\"A\",\"A\",\"A\"};"
   ]
  },
  {
   "cell_type": "markdown",
   "metadata": {},
   "source": [
    "### 数据构建完毕，回顾一下："
   ]
  },
  {
   "cell_type": "code",
   "execution_count": 9,
   "metadata": {
    "dotnet_interactive": {
     "language": "csharp"
    },
    "polyglot_notebook": {
     "kernelName": "csharp"
    },
    "vscode": {
     "languageId": "polyglot-notebook"
    }
   },
   "outputs": [],
   "source": [
    "int currentAssignments = 5;\n",
    "\n",
    "\n",
    "int[] sophiaScores = new int[]{90,86,87,98,100,94,90};\n",
    "int[] andrewScores = new int[]{92,89,81,96,90,89};\n",
    "int[] emmaScores = new int[]{90,85,87,98,68,89,89,89};\n",
    "int[] loganScores = new int[]{90,95,87,88,96,96}; \n",
    "int[] beckyScores = new int[] { 92, 91, 90, 91, 92, 92, 92 };\n",
    "int[] chrisScores = new int[] { 84, 86, 88, 90, 92, 94, 96, 98 };\n",
    "int[] ericScores = new int[] { 80, 90, 100, 80, 90, 100, 80, 90 };\n",
    "int[] gregorScores = new int[] { 91, 91, 91, 91, 91, 91, 91 };    \n",
    "int[] timmyScores = new int[]{90,89,87,91,92,93,93,92,89};\n",
    "int[] jamesScores = new int[]{88,89,87,91,92,90,92,94,88};\n",
    "\n",
    "decimal[] studentScore = new decimal[]{0,0,0,0,0,0,0,0,0,0};\n",
    "decimal[] sumScores = new decimal[]{0,0,0,0,0,0,0,0,0,0};\n",
    "decimal[] examScores = new decimal[]{0,0,0,0,0,0,0,0,0,0};\n",
    "decimal[] extraAverageScore = new decimal[]{0,0,0,0,0,0,0,0,0,0};\n",
    "\n",
    "string[] studentNames = new string[]{\"Sophia\",\"Andrew\",\"Emma\",\"Logan\",\"Becky\",\"Chris\",\"Eric\",\"Gregor\",\"Timmy\",\"James\"};\n",
    "string[] studentLetterGrade= new string[]{\"A\",\"A\",\"A\",\"A\",\"A\",\"A\",\"A\",\"A\",\"A\",\"A\"};\n",
    "\n",
    "int[] tempScores = new int[10];"
   ]
  },
  {
   "cell_type": "markdown",
   "metadata": {},
   "source": [
    "#### 8.为了最后给出字母等级评价，需要增加一个**判断语句**。"
   ]
  },
  {
   "cell_type": "code",
   "execution_count": 10,
   "metadata": {
    "dotnet_interactive": {
     "language": "csharp"
    },
    "polyglot_notebook": {
     "kernelName": "csharp"
    },
    "vscode": {
     "languageId": "polyglot-notebook"
    }
   },
   "outputs": [],
   "source": [
    "for(int i=0; i<studentNames.Length; i++)\n",
    "{\n",
    "    studentScore[i] = sumScores[i] / currentAssignments;\n",
    "    if(studentScore[i]>=97)\n",
    "    {\n",
    "        studentLetterGrade[i] = \"A+\";\n",
    "    }\n",
    "    else if(studentScore[i]>=93)\n",
    "    {\n",
    "        studentLetterGrade[i] = \"A\";\n",
    "    }\n",
    "    else if(studentScore[i]>=90)\n",
    "    {\n",
    "        studentLetterGrade[i] = \"A-\";\n",
    "    }\n",
    "    else if(studentScore[i]>=87)\n",
    "    {\n",
    "        studentLetterGrade[i] = \"B+\";\n",
    "    }\n",
    "    else if(studentScore[i]>=83)\n",
    "    {\n",
    "        studentLetterGrade[i] = \"B\";\n",
    "    }\n",
    "    else if(studentScore[i]>=80)\n",
    "    {\n",
    "        studentLetterGrade[i] = \"B-\";\n",
    "    }\n",
    "    else if(studentScore[i]>=77)\n",
    "    {\n",
    "        studentLetterGrade[i] = \"C+\";\n",
    "    }\n",
    "    else if(studentScore[i]>=73)\n",
    "    {\n",
    "        studentLetterGrade[i] = \"C\";\n",
    "    }\n",
    "    else if(studentScore[i]>=70)\n",
    "    {\n",
    "        studentLetterGrade[i] = \"C-\";\n",
    "    }\n",
    "    else if(studentScore[i]>=67)\n",
    "    {\n",
    "        studentLetterGrade[i] = \"D+\";\n",
    "    }\n",
    "    else if(studentScore[i]>=63)\n",
    "    {\n",
    "        studentLetterGrade[i] = \"D\";\n",
    "    }\n",
    "    else if(studentScore[i]>=60)\n",
    "    {\n",
    "        studentLetterGrade[i] = \"D-\";\n",
    "    }\n",
    "    else\n",
    "    {\n",
    "        studentLetterGrade[i] = \"F\";\n",
    "    }\n",
    "    //Console.WriteLine($\"{studentNames[i]}:\\t\\t{examScores[i]}\\t\\t{studentScore[i]}\\t{studentLetterGrade[i]}\\t{extraAverageScore[i]}({studentScore[i]-examScores[i]} pts)\");\n",
    "}\n"
   ]
  },
  {
   "cell_type": "markdown",
   "metadata": {},
   "source": [
    "### 整合一下以上代码，得到下面的最终代码："
   ]
  },
  {
   "cell_type": "code",
   "execution_count": 2,
   "metadata": {
    "dotnet_interactive": {
     "language": "csharp"
    },
    "polyglot_notebook": {
     "kernelName": "csharp"
    },
    "vscode": {
     "languageId": "polyglot-notebook"
    }
   },
   "outputs": [
    {
     "name": "stdout",
     "output_type": "stream",
     "text": [
      "Student\t\tExam Score\tOverall Grade\tExtra Credit\n",
      "\n",
      "Sophia:\t\t92.2\t\t95.88\tA\t92(3.68 pts)\n",
      "Andrew:\t\t89.6\t\t91.38\tA-\t89(1.78 pts)\n",
      "Emma:\t\t85.6\t\t90.94\tA-\t89(5.34 pts)\n",
      "Logan:\t\t91.2\t\t93.12\tA\t96(1.92 pts)\n",
      "Becky:\t\t91.2\t\t94.88\tA\t92(3.68 pts)\n",
      "Chris:\t\t88\t\t93.76\tA\t96(5.76 pts)\n",
      "Eric:\t\t88\t\t93.4\tA\t90(5.4 pts)\n",
      "Gregor:\t\t91\t\t94.64\tA\t91(3.64 pts)\n",
      "Timmy:\t\t89.8\t\t97.14\tA+\t91(7.34 pts)\n",
      "James:\t\t89.4\t\t96.68\tA\t91(7.28 pts)\n"
     ]
    }
   ],
   "source": [
    "using System;\n",
    "\n",
    "// initialize variables - graded assignments \n",
    "int currentAssignments = 5;\n",
    "\n",
    "\n",
    "int[] sophiaScores = new int[]{90,86,87,98,100,94,90};\n",
    "int[] andrewScores = new int[]{92,89,81,96,90,89};\n",
    "int[] emmaScores = new int[]{90,85,87,98,68,89,89,89};\n",
    "int[] loganScores = new int[]{90,95,87,88,96,96}; \n",
    "int[] beckyScores = new int[] { 92, 91, 90, 91, 92, 92, 92 };\n",
    "int[] chrisScores = new int[] { 84, 86, 88, 90, 92, 94, 96, 98 };\n",
    "int[] ericScores = new int[] { 80, 90, 100, 80, 90, 100, 80, 90 };\n",
    "int[] gregorScores = new int[] { 91, 91, 91, 91, 91, 91, 91 };    \n",
    "int[] timmyScores = new int[]{90,89,87,91,92,93,93,92,89};\n",
    "int[] jamesScores = new int[]{88,89,87,91,92,90,92,94,88};\n",
    "\n",
    "decimal[] studentScore = new decimal[]{0,0,0,0,0,0,0,0,0,0};\n",
    "decimal[] sumScores =    new decimal[]{0,0,0,0,0,0,0,0,0,0};\n",
    "decimal[] examScores =   new decimal[]{0,0,0,0,0,0,0,0,0,0};\n",
    "// decimal[] extraAverageScore = new decimal[]{0,0,0,0,0,0,0,0,0,0};\n",
    "decimal[] extraAverageScore = new decimal[10];\n",
    "string[] studentNames = new string[]{\"Sophia\",\"Andrew\",\"Emma\",\"Logan\",\"Becky\",\"Chris\",\"Eric\",\"Gregor\",\"Timmy\",\"James\"};\n",
    "string[] studentLetterGrade= new string[]{\"A\",\"A\",\"A\",\"A\",\"A\",\"A\",\"A\",\"A\",\"A\",\"A\"};\n",
    "\n",
    "int[] tempScores = new int[10];\n",
    "\n",
    "foreach(string studentName in studentNames)\n",
    "{\n",
    "    int countExams = 0;\n",
    "    int index = 0;\n",
    "    int extraScores = 0;\n",
    "    if (studentName == \"Sophia\")\n",
    "    {\n",
    "        tempScores = sophiaScores;\n",
    "    }\n",
    "    else if(studentName == \"Andrew\")\n",
    "    {\n",
    "        index = 1;\n",
    "        tempScores = andrewScores;\n",
    "    }\n",
    "    else if(studentName == \"Emma\")\n",
    "    {\n",
    "        index = 2;\n",
    "        tempScores = emmaScores;\n",
    "    }\n",
    "    else if(studentName == \"Logan\")\n",
    "    {\n",
    "        index = 3;\n",
    "        tempScores = loganScores;\n",
    "    }\n",
    "    else if(studentName == \"Becky\")\n",
    "    {\n",
    "        index = 4;\n",
    "        tempScores = beckyScores;\n",
    "    }\n",
    "    else if(studentName == \"Chris\")\n",
    "    {\n",
    "        index = 5;\n",
    "        tempScores = chrisScores;\n",
    "    }\n",
    "    else if(studentName == \"Eric\")\n",
    "    {\n",
    "        index = 6;\n",
    "        tempScores = ericScores;\n",
    "    }\n",
    "    else if(studentName == \"Gregor\")\n",
    "    {\n",
    "        index = 7;\n",
    "        tempScores = gregorScores;\n",
    "    }\n",
    "    else if(studentName == \"Timmy\")\n",
    "    {\n",
    "        index = 8;\n",
    "        tempScores = timmyScores;\n",
    "    }\n",
    "    else\n",
    "    {\n",
    "        index = 9;\n",
    "        tempScores = jamesScores;\n",
    "    }\n",
    "\n",
    "    foreach (int score in tempScores)\n",
    "    {\n",
    "        countExams++;\n",
    "        if (countExams <= 5)\n",
    "        {\n",
    "            sumScores[index] += score;\n",
    "            examScores[index] = sumScores[index]/5;\n",
    "        }\n",
    "        else\n",
    "        {\n",
    "            extraScores += score;\n",
    "            sumScores[index] +=(decimal) score / 10;//强制类型转换，使得结果精度更高\n",
    "            extraAverageScore[index] = extraScores / (countExams - 5);\n",
    "        }\n",
    "    }\n",
    "}\n",
    "\n",
    "Console.WriteLine(\"Student\\t\\tExam Score\\tOverall Grade\\tExtra Credit\\n\");\n",
    "for(int i=0; i<studentNames.Length; i++)\n",
    "{\n",
    "    studentScore[i] = sumScores[i] / currentAssignments;\n",
    "    if(studentScore[i]>=97)\n",
    "    {\n",
    "        studentLetterGrade[i] = \"A+\";\n",
    "    }\n",
    "    else if(studentScore[i]>=93)\n",
    "    {\n",
    "        studentLetterGrade[i] = \"A\";\n",
    "    }\n",
    "    else if(studentScore[i]>=90)\n",
    "    {\n",
    "        studentLetterGrade[i] = \"A-\";\n",
    "    }\n",
    "    else if(studentScore[i]>=87)\n",
    "    {\n",
    "        studentLetterGrade[i] = \"B+\";\n",
    "    }\n",
    "    else if(studentScore[i]>=83)\n",
    "    {\n",
    "        studentLetterGrade[i] = \"B\";\n",
    "    }\n",
    "    else if(studentScore[i]>=80)\n",
    "    {\n",
    "        studentLetterGrade[i] = \"B-\";\n",
    "    }\n",
    "    else if(studentScore[i]>=77)\n",
    "    {\n",
    "        studentLetterGrade[i] = \"C+\";\n",
    "    }\n",
    "    else if(studentScore[i]>=73)\n",
    "    {\n",
    "        studentLetterGrade[i] = \"C\";\n",
    "    }\n",
    "    else if(studentScore[i]>=70)\n",
    "    {\n",
    "        studentLetterGrade[i] = \"C-\";\n",
    "    }\n",
    "    else if(studentScore[i]>=67)\n",
    "    {\n",
    "        studentLetterGrade[i] = \"D+\";\n",
    "    }\n",
    "    else if(studentScore[i]>=63)\n",
    "    {\n",
    "        studentLetterGrade[i] = \"D\";\n",
    "    }\n",
    "    else if(studentScore[i]>=60)\n",
    "    {\n",
    "        studentLetterGrade[i] = \"D-\";\n",
    "    }\n",
    "    else\n",
    "    {\n",
    "        studentLetterGrade[i] = \"F\";\n",
    "    }\n",
    "    Console.WriteLine($\"{studentNames[i]}:\\t\\t{examScores[i]}\\t\\t{studentScore[i]}\\t{studentLetterGrade[i]}\\t{extraAverageScore[i]}({studentScore[i]-examScores[i]} pts)\");\n",
    "}"
   ]
  },
  {
   "cell_type": "markdown",
   "metadata": {},
   "source": [
    "## 总结反思：\n",
    "> 开发思路：先实现基本功能，然后再考虑优化代码\n",
    "\n",
    "> 代码优化的基本思路：\n",
    "是否可以将分散的变量用数组存储\n",
    "是否可以用循环结构降低代码量，增加可读性\n",
    "是否可以用switch-case语句代替if-else if-else语句让代码更加整洁\n",
    "是否可以通过优化实现过程，使得增加新的数据变得容易。\n",
    "#### 比如我想增加一位同学到这个成绩计算并打印成绩单的程序当中，我只需要在成绩数组中增加该学生的分数，然后在学生名字数组中增加该学生的名字，增加一个分支计算该同学的总分和附加分即可改动的代码较少，这就是一种优化。\n"
   ]
  },
  {
   "cell_type": "markdown",
   "metadata": {},
   "source": [
    "## 小彩蛋\n",
    "### 用C#还可以做些什么小项目？\n",
    "### 一个可以进行聊天记录总结的GPT，一个可以根据提示词写书的GPT。这背后不止是C#在提供支持，还需要一个叫Semantic Kernel的应用程序开发框架，使得用户输入可以更加高效合理地调用大模型的能力。就在9月23日，全球第一个Semantic Kernel社区在上海成立了，大家可以在微信上关注这一社区，加入社区，一起见证大模型带来的开发范式的变化！期待你们的加入，我们一起赋能世界！✨ 🎆 🥳\n"
   ]
  },
  {
   "cell_type": "markdown",
   "metadata": {},
   "source": [
    "## Further Learning\n",
    "### Github ChatCopilot项目，调用Azure OpenAI，用C#调用大模型，再配合上一个应用程序的前端，最终实现在应用程序中使用GPT这样一个功能。提升用户的交互感。\n",
    "> [Chat Copilot](https://github.com/microsoft/chat-copilot)\n",
    "\n",
    "> [Semantic-Kernel-Starters](https://github.com/microsoft/semantic-kernel-starters)\n",
    "\n",
    " > [创建一个ChatGPT插件](https://github.com/microsoft/semantic-kernel-starters/tree/main/sk-csharp-chatgpt-plugin)\n",
    "\n",
    " >[创建一个在控制台上运行的ChatGPT](https://github.com/microsoft/semantic-kernel-starters/tree/main/sk-csharp-console-chat)\n",
    "\n",
    "> [Microsoft Learn-检查代码块与变量范围之间的关系，并使用布尔表达式、选择语句和迭代语句加深 C# 编码体验。](https://learn.microsoft.com/zh-cn/training/paths/get-started-c-sharp-part-3/)\n",
    "\n",
    "> [Microsoft Learn-深入了解数据和类型，学习如何操作字符串和数值数据并对数组执行操作。](https://learn.microsoft.com/zh-cn/training/paths/get-started-c-sharp-part-4/)\n",
    "\n",
    "> [Microsoft Learn-了解如何为 C# 控制台应用程序创建方法。 使用参数和返回值跨应用程序操作数据。 了解如何使用命名参数和可选参数来简化代码。](https://learn.microsoft.com/zh-cn/training/paths/get-started-c-sharp-part-5/)\n",
    "\n",
    "> [Microsoft Learn-了解如何在 Visual Studio Code 中调试 C# 控制台应用程序，以及如何使用 try-catch 模式实现异常处理。](https://learn.microsoft.com/zh-cn/training/paths/get-started-c-sharp-part-6/)"
   ]
  }
 ],
 "metadata": {
  "language_info": {
   "name": "python"
  },
  "orig_nbformat": 4
 },
 "nbformat": 4,
 "nbformat_minor": 2
}
